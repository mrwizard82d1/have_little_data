{
 "cells": [
  {
   "metadata": {},
   "cell_type": "markdown",
   "source": "# Bayesian putting",
   "id": "d74f9b635d08cbe4"
  },
  {
   "metadata": {},
   "cell_type": "markdown",
   "source": [
    "You can find more details of this example from\n",
    "[a case study on the PyMC website](https://www.pymc.io/projects/examples/en/latest/case_studies/putting_workflow.html)"
   ],
   "id": "b220dcdf79353dfd"
  },
  {
   "metadata": {},
   "cell_type": "code",
   "source": [
    "# Import Python packages\n",
    "import io\n",
    "\n",
    "# Import data analysis packages\n",
    "import numpy as np\n",
    "import matplotlib.pyplot as plt\n",
    "import pandas as pd\n",
    "\n",
    "# Import scipy\n",
    "import scipy\n",
    "import scipy.stats as st\n",
    "\n",
    "# Import PyMC etc\n",
    "import arviz as az\n",
    "import pymc as pm\n",
    "import xarray as xr\n",
    "\n",
    "from xarray_einstats.stats import XrContinuousRV\n",
    "\n",
    "# Other packages\n",
    "import pytensor.tensor as pt"
   ],
   "id": "937d6ec2caa13d63",
   "outputs": [],
   "execution_count": null
  },
  {
   "metadata": {},
   "cell_type": "code",
   "source": [
    "# Initialize a random seed for repeatability\n",
    "RANDOM_SEED = 8927\n",
    "\n",
    "# Use a \"dark grid\" style for plotting\n",
    "az.style.use('arviz-darkgrid')"
   ],
   "id": "40466a96396abf79",
   "outputs": [],
   "execution_count": null
  },
  {
   "metadata": {},
   "cell_type": "code",
   "source": [
    "# Our hard-coded putting data from Berry (1996)\n",
    "golf_data = \"\"\"\n",
    "distance tries successes\n",
    "2 1443 1346\n",
    "3 694 577\n",
    "4 455 337\n",
    "5 353 208\n",
    "6 272 149\n",
    "7 256 136\n",
    "8 240 111\n",
    "9 217 69\n",
    "10 200 67\n",
    "11 237 75\n",
    "12 202 52\n",
    "13 192 46\n",
    "14 174 54\n",
    "15 167 28\n",
    "16 201 27\n",
    "17 195 31\n",
    "18 191 33\n",
    "19 147 20\n",
    "20 152 24\n",
    "\"\"\"\n",
    "\n",
    "golf_data = pd.read_csv(io.StringIO(golf_data), sep=\" \", dtype={'distance': 'float'})\n",
    "\n",
    "BALL_RADIUS = (1.68 / 2) / 12 # radius in feet\n",
    "CUP_RADIUS = (4.25 / 2) / 12 # cup radius in feet"
   ],
   "id": "305f3030c6f5cb3",
   "outputs": [],
   "execution_count": null
  },
  {
   "metadata": {},
   "cell_type": "code",
   "source": [
    "# A function to plot our data\n",
    "def plot_golf_data(golf_data, ax=None, color=\"C0\"):\n",
    "    \"\"\"Utility function to standardize a pretty plotting of the golf data.\"\"\"\n",
    "    if ax is None:\n",
    "        _, ax = plt.subplots()\n",
    "    bg_color = ax.get_facecolor()\n",
    "    rv = st.beta(golf_data.successes, golf_data.tries - golf_data.successes)\n",
    "    ax.vlines(golf_data.distance, *rv.interval(0.68), label=None, color=color)\n",
    "    ax.plot(\n",
    "        golf_data.distance,\n",
    "        golf_data.successes / golf_data.tries,\n",
    "        \"o\",\n",
    "        mec=color,\n",
    "        mfc=bg_color,\n",
    "        label=None,\n",
    "    )\n",
    "\n",
    "    ax.set_xlabel(\"Distance from hole\")\n",
    "    ax.set_ylabel(\"Percent of putts made\")\n",
    "    ax.set_ylim(bottom=0, top=1)\n",
    "\n",
    "    ax.set_xlim(left=0)\n",
    "    ax.grid(True, axis=\"y\", alpha=0.7)\n",
    "    return ax"
   ],
   "id": "22dd894d6d5abfc6",
   "outputs": [],
   "execution_count": null
  },
  {
   "metadata": {},
   "cell_type": "code",
   "source": [
    "# And now let's see what it looks like.\n",
    "ax = plot_golf_data(golf_data)\n",
    "ax.set_title('Overview of data from Berry (1996)')\n",
    "plt.show()"
   ],
   "id": "7cd0ac7106bb1db8",
   "outputs": [],
   "execution_count": null
  },
  {
   "metadata": {},
   "cell_type": "markdown",
   "source": "## Logit model",
   "id": "cd56a9777c6f5530"
  },
  {
   "metadata": {},
   "cell_type": "markdown",
   "source": [
    "Let's fit a traditional logit-binomial model. Our model of successes is\n",
    "\n",
    "$$\n",
    "\\begin{align*}\n",
    "    a, b &\\sim \\mathcal{N(0, 1)} \\\\\n",
    "    p(success) &= logit^{-1}(a \\cdot distance + b) \\\\\n",
    "    num.successes &\\sim Binomial(tries, p(success))\n",
    "\\end{align*}\n",
    "$$"
   ],
   "id": "dcf7b10f10acb8d5"
  },
  {
   "metadata": {},
   "cell_type": "code",
   "source": [
    "with pm.Model() as logit_model:\n",
    "    distance_ = pm.Data(\"distance\", golf_data[\"distance\"], dims=\"obs_id\")\n",
    "    tries_ = pm.Data(\"tries\", golf_data[\"tries\"], dims=\"obs_id\")\n",
    "    successes_ = pm.Data(\"successes\", golf_data[\"successes\"], dims=\"obs_id\")\n",
    "\n",
    "    a_ = pm.Normal(\"a\")\n",
    "    b_ = pm.Normal(\"b\")\n",
    "\n",
    "    pm.Binomial(\n",
    "        \"success\",\n",
    "        n=tries_,\n",
    "        p=pm.math.invlogit(a_ * distance_ + b_),\n",
    "        observed=successes_,\n",
    "        dims=\"obs_id\",\n",
    "    )"
   ],
   "id": "4da84d112b342956",
   "outputs": [],
   "execution_count": null
  },
  {
   "metadata": {},
   "cell_type": "code",
   "source": "pm.model_to_graphviz(logit_model)",
   "id": "cba15a5b58f9f9df",
   "outputs": [],
   "execution_count": null
  },
  {
   "metadata": {},
   "cell_type": "markdown",
   "source": [
    "We have some intuition that $a$ should be negative; that is, the longer\n",
    "the distance, the less likely we are to make a put. We also think that\n",
    "$b$ should be zero; that is, we expect to make almost 100% of putts of\n",
    "zero feet. (But this is golf.)"
   ],
   "id": "b13546bf18a1fce5"
  },
  {
   "metadata": {},
   "cell_type": "code",
   "source": [
    "with logit_model:\n",
    "    logit_trace = pm.sample()"
   ],
   "id": "50d705f8b275d5e5",
   "outputs": [],
   "execution_count": null
  },
  {
   "metadata": {},
   "cell_type": "code",
   "source": "az.summary(logit_trace)",
   "id": "d60569b707a26603",
   "outputs": [],
   "execution_count": null
  },
  {
   "metadata": {},
   "cell_type": "code",
   "source": [
    "# Draw posterior predictive samples\n",
    "with logit_model:\n",
    "    logit_trace.extend(pm.sample_posterior_predictive(logit_trace))\n",
    "\n",
    "# Hard to plot more than 400 sensibly\n",
    "logit_post = az.extract(logit_trace, num_samples=400)\n",
    "logit_ppc = az.extract(logit_trace, group=\"posterior_predictive\", num_samples=400)\n",
    "const_data = logit_trace[\"constant_data\"]\n",
    "\n",
    "logit_ppc_success = logit_ppc[\"success\"] / const_data[\"tries\"]\n",
    "\n",
    "# Plotting\n",
    "ax = plot_golf_data(golf_data)\n",
    "t_ary = np.linspace(CUP_RADIUS - BALL_RADIUS, golf_data.distance.max(), 200)\n",
    "t = xr.DataArray(t_ary, coords=[(\"distance\", t_ary)])\n",
    "logit_post[\"expit\"] = scipy.special.expit(logit_post[\"a\"] * t + logit_post[\"b\"])\n",
    "\n",
    "ax.plot(\n",
    "    t,\n",
    "    logit_post[\"expit\"].T,\n",
    "    lw=1,\n",
    "    color=\"C1\",\n",
    "    alpha=0.5,\n",
    ")\n",
    "\n",
    "ax.plot(t, logit_post[\"expit\"].mean(dim=\"sample\"), color=\"C2\")\n",
    "\n",
    "ax.plot(golf_data.distance, logit_ppc_success, \"k.\", alpha=0.01)\n",
    "ax.set_title(\"Logit mean and posterior predictive\")\n",
    "plt.show()"
   ],
   "id": "bb651b3bb0da31da",
   "outputs": [],
   "execution_count": null
  },
  {
   "metadata": {},
   "cell_type": "markdown",
   "source": [
    "The fit is okay, but it is not especially good. This observation\n",
    "is not unexpected. In Bayesian analysis, we start with **simple**\n",
    "models and \"add complexity\" as needed."
   ],
   "id": "3949ce4be29c893b"
  },
  {
   "metadata": {},
   "cell_type": "markdown",
   "source": "## Geometry-based model",
   "id": "721d1ef3236cc07"
  },
  {
   "metadata": {},
   "cell_type": "markdown",
   "source": [
    "We will assume that professional golfers can hit the ball in a\n",
    "specific direction with some (small?) error. In other words,\n",
    "the angle the ball actually travels is normally distributed\n",
    "around 0 with some variance we will try to learn.\n",
    "\n",
    "The ball goes in whenever the error in the angle is small\n",
    "enough that the center of gravity of the ball is inside the\n",
    "cup.\n",
    "\n",
    "Here is the probability of sinking a put:\n",
    "\n",
    "$$\n",
    "p(success | \\sigma_{angle}, distance) = 2 \\Phi \\left(\\frac {arcsin((R - r)/distance} {\\sigma_{angle}} \\right)\n",
    "$$\n",
    "\n",
    "where $Phi$ is the normal cumulative density function, R is the radius of the cup and r is the radius of the ball."
   ],
   "id": "6394cce589767b46"
  },
  {
   "metadata": {},
   "cell_type": "code",
   "source": [
    "def phi(x):\n",
    "    \"\"\"Calculates the standard normal cumulative distribution function.\"\"\"\n",
    "    return 0.5 + 0.5 * pt.erf(x / pt.sqrt(2.0))\n",
    "\n",
    "\n",
    "with pm.Model() as angle_model:\n",
    "    distance_ = pm.MutableData(\"distance\", golf_data[\"distance\"], dims=\"obs_id\")\n",
    "    tries_ = pm.MutableData(\"tries\", golf_data[\"tries\"], dims=\"obs_id\")\n",
    "    successes_ = pm.MutableData(\"successes\", golf_data[\"successes\"], dims=\"obs_id\")\n",
    "\n",
    "    variance_of_shot = pm.HalfNormal(\"variance_of_shot\")\n",
    "    p_goes_in = pm.Deterministic(\n",
    "        \"p_goes_in\",\n",
    "        2 * phi(pt.arcsin((CUP_RADIUS - BALL_RADIUS) / distance_) / variance_of_shot) - 1,\n",
    "        dims=\"obs_id\",\n",
    "    )\n",
    "    success = pm.Binomial(\"success\", n=tries_, p=p_goes_in, observed=successes_, dims=\"obs_id\")"
   ],
   "id": "f01290ac4eeec3b0",
   "outputs": [],
   "execution_count": null
  },
  {
   "metadata": {},
   "cell_type": "code",
   "source": "pm.model_to_graphviz(angle_model)",
   "id": "2faf7f07f3e1abeb",
   "outputs": [],
   "execution_count": null
  },
  {
   "metadata": {},
   "cell_type": "markdown",
   "source": "### Prior Predictive Checks",
   "id": "6d0b06a2548758b4"
  },
  {
   "metadata": {},
   "cell_type": "code",
   "source": [
    "with angle_model:\n",
    "    angle_trace = pm.sample_prior_predictive(500)"
   ],
   "id": "109b83392c64c59d",
   "outputs": [],
   "execution_count": null
  },
  {
   "metadata": {},
   "cell_type": "code",
   "source": [
    "with angle_model:\n",
    "    angle_trace.extend(pm.sample(1000, tune=1000, target_accept=0.85))\n",
    "\n",
    "angle_post = az.extract(angle_trace)"
   ],
   "id": "c0a0e92c85924dce",
   "outputs": [],
   "execution_count": null
  },
  {
   "metadata": {},
   "cell_type": "code",
   "source": [
    "def forward_angle_model(variances_of_shot, t):\n",
    "    norm_dist = XrContinuousRV(st.norm, 0, variances_of_shot)\n",
    "    return 2 * norm_dist.cdf(np.arcsin((CUP_RADIUS - BALL_RADIUS) / t)) - 1"
   ],
   "id": "19efc0d2214a01e2",
   "outputs": [],
   "execution_count": null
  },
  {
   "metadata": {},
   "cell_type": "code",
   "source": [
    "ax = plot_golf_data(golf_data)\n",
    "\n",
    "angle_post[\"expit\"] = forward_angle_model(angle_post[\"variance_of_shot\"], t)\n",
    "\n",
    "ax.plot(\n",
    "    t,\n",
    "    angle_post[\"expit\"][:, ::100],\n",
    "    lw=1,\n",
    "    color=\"C1\",\n",
    "    alpha=0.1,\n",
    ")\n",
    "\n",
    "ax.plot(\n",
    "    t,\n",
    "    angle_post[\"expit\"].mean(dim=\"sample\"),\n",
    "    label=\"Geometry-based model\",\n",
    ")\n",
    "\n",
    "ax.plot(\n",
    "    t,\n",
    "    logit_post[\"expit\"].mean(dim=\"sample\"),\n",
    "    label=\"Logit-binomial model\",\n",
    ")\n",
    "ax.set_title(\"Comparing the fit of geometry-based and logit-binomial model\")\n",
    "ax.legend()\n",
    "plt.show()"
   ],
   "id": "212ca08005e36812",
   "outputs": [],
   "execution_count": null
  },
  {
   "metadata": {},
   "cell_type": "markdown",
   "source": [
    "The new model appears to fit much better. This model suggests that\n",
    "a 50 foot putt has a much higher chance of going in."
   ],
   "id": "a3ffe78ff481511b"
  }
 ],
 "metadata": {
  "kernelspec": {
   "display_name": "Python 3",
   "language": "python",
   "name": "python3"
  },
  "language_info": {
   "codemirror_mode": {
    "name": "ipython",
    "version": 2
   },
   "file_extension": ".py",
   "mimetype": "text/x-python",
   "name": "python",
   "nbconvert_exporter": "python",
   "pygments_lexer": "ipython2",
   "version": "2.7.6"
  }
 },
 "nbformat": 4,
 "nbformat_minor": 5
}
