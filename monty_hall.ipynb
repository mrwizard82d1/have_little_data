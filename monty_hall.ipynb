{
 "cells": [
  {
   "metadata": {},
   "cell_type": "markdown",
   "source": "# The Monty Hall Problem",
   "id": "fc23cb08c3d179d1"
  },
  {
   "metadata": {},
   "cell_type": "code",
   "source": [
    "# Import Python packages\n",
    "import fractions\n",
    "from itertools import product\n",
    "\n",
    "# Import data analysis packages\n",
    "import numpy as np\n",
    "import matplotlib.pyplot as plt\n",
    "import pandas as pd"
   ],
   "id": "b81d8645ccd59b4d",
   "outputs": [],
   "execution_count": null
  },
  {
   "metadata": {},
   "cell_type": "code",
   "source": [
    "hypotheses = ['Door 1', 'Door 2', 'Door 3']\n",
    "\n",
    "table = pd.DataFrame(\n",
    "    columns=['Hypothesis', 'Prior', 'Likelihood', 'Product', 'Posterior'],\n",
    ")\n",
    "table['Hypothesis'] = hypotheses\n",
    "table"
   ],
   "id": "24027bcf930f32d7",
   "outputs": [],
   "execution_count": null
  },
  {
   "metadata": {},
   "cell_type": "code",
   "source": [
    "table['Prior'] = fractions.Fraction(1, 3)\n",
    "table"
   ],
   "id": "222667e6a0fe9d77",
   "outputs": [],
   "execution_count": null
  },
  {
   "metadata": {},
   "cell_type": "markdown",
   "source": [
    "When Monty Hall opens Door 3 and reveals a goat, we have data.\n",
    "\n",
    "The likelihood is the most difficult part of this calculation.\n",
    "In words, we can express it as \"What is the likelihood Monty Hall\n",
    "opens Door X given that the car is behind Door X?\" In light of this\n",
    "question, we have the following:\n",
    "\n",
    "- If the car is behind Door 1, Monty Hall opens either Door 2 or 3\n",
    "at random. Consequently, the probability he opens Door 3 is $\\frac {1} {2}$.\n",
    "- If the car is behind Door 2, Monty Hall **must** open Door 3 so the\n",
    "probability of the data in this situation is 1.\n",
    "- If the car is behind Door 3, Monty Hall **does not** open Door 3.\n",
    "The probability of the data under this hypothesis is 0.\n",
    "\n"
   ],
   "id": "d4576ed2555be161"
  },
  {
   "metadata": {},
   "cell_type": "code",
   "source": [
    "table['Likelihood'] = [fractions.Fraction(1, 2), 1, 0]\n",
    "table"
   ],
   "id": "b92b063534d51999",
   "outputs": [],
   "execution_count": null
  },
  {
   "metadata": {},
   "cell_type": "markdown",
   "source": [
    "We calculate the product by simply multiplying the Prior and\n",
    "the Likelihood."
   ],
   "id": "7109d3a9a687316"
  },
  {
   "metadata": {},
   "cell_type": "code",
   "source": [
    "table['Product'] = table['Prior'] * table['Likelihood']\n",
    "table"
   ],
   "id": "511b251313619802",
   "outputs": [],
   "execution_count": null
  },
  {
   "metadata": {},
   "cell_type": "markdown",
   "source": [
    "The marginal evidence, $P(D)$, is simply the sum of all the products\n",
    "of the Priors and the corresponding Likelihoods."
   ],
   "id": "f5a5683d1041b492"
  },
  {
   "metadata": {},
   "cell_type": "code",
   "source": [
    "marginal_evidence = table['Product'].sum()\n",
    "marginal_evidence"
   ],
   "id": "b65c54e554460a38",
   "outputs": [],
   "execution_count": null
  },
  {
   "metadata": {},
   "cell_type": "markdown",
   "source": [
    "Finally, we can calculate our posterior by dividing each product\n",
    "by the marginal_evidence."
   ],
   "id": "3e82c612218063bf"
  },
  {
   "metadata": {},
   "cell_type": "code",
   "source": [
    "table['Posterior'] = table['Product'] / marginal_evidence\n",
    "table"
   ],
   "id": "a0687fe0d8977528",
   "outputs": [],
   "execution_count": null
  },
  {
   "metadata": {},
   "cell_type": "markdown",
   "source": "With this evidence or data, we should switch!",
   "id": "548944c4996c629a"
  },
  {
   "metadata": {},
   "cell_type": "code",
   "source": "",
   "id": "22c0bcebeefac197",
   "outputs": [],
   "execution_count": null
  }
 ],
 "metadata": {
  "kernelspec": {
   "display_name": "Python 3",
   "language": "python",
   "name": "python3"
  },
  "language_info": {
   "codemirror_mode": {
    "name": "ipython",
    "version": 2
   },
   "file_extension": ".py",
   "mimetype": "text/x-python",
   "name": "python",
   "nbconvert_exporter": "python",
   "pygments_lexer": "ipython2",
   "version": "2.7.6"
  }
 },
 "nbformat": 4,
 "nbformat_minor": 5
}
